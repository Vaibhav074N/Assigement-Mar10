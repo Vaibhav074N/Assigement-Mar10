{
  "nbformat": 4,
  "nbformat_minor": 0,
  "metadata": {
    "colab": {
      "provenance": [],
      "authorship_tag": "ABX9TyOKvmzqmKXScSsDZNay0qng",
      "include_colab_link": true
    },
    "kernelspec": {
      "name": "python3",
      "display_name": "Python 3"
    },
    "language_info": {
      "name": "python"
    }
  },
  "cells": [
    {
      "cell_type": "markdown",
      "metadata": {
        "id": "view-in-github",
        "colab_type": "text"
      },
      "source": [
        "<a href=\"https://colab.research.google.com/github/Vaibhav074N/Assigement-Mar10/blob/main/Assigement_Mar10.ipynb\" target=\"_parent\"><img src=\"https://colab.research.google.com/assets/colab-badge.svg\" alt=\"Open In Colab\"/></a>"
      ]
    },
    {
      "cell_type": "markdown",
      "source": [
        "Q1: What is Estimation Statistics? Explain point estimate and interval estimate."
      ],
      "metadata": {
        "id": "bVgDDTU77GY4"
      }
    },
    {
      "cell_type": "markdown",
      "source": [
        "Estimation statistics is a branch of statistics that deals with estimating population parameters based on sample data. In estimation statistics, there are two types of estimates: point estimate and interval estimate.\n",
        "\n",
        "Point estimate is a single value that is used to estimate the population parameter. For example, if we take a sample of 100 people from a population of 1000 and calculate the mean age of the sample, then the sample mean is a point estimate of the population mean age.\n",
        "\n",
        "Interval estimate, on the other hand, is a range of values within which the population parameter is expected to lie. It provides more information about the possible values of the population parameter than point estimate. A common way to estimate an interval is to use a confidence interval, which is a range of values that is likely to contain the true population parameter with a certain degree of confidence. For example, a 95% confidence interval for the population mean age would be a range of values within which we are 95% confident that the true population mean age lies.\n",
        "\n",
        "In summary, point estimate gives a single value estimate of the population parameter, while interval estimate gives a range of values within which the population parameter is expected to lie."
      ],
      "metadata": {
        "id": "jio9FW4D7ME6"
      }
    },
    {
      "cell_type": "code",
      "execution_count": null,
      "metadata": {
        "id": "Rc4EFiOQ7BgW"
      },
      "outputs": [],
      "source": []
    },
    {
      "cell_type": "markdown",
      "source": [
        "Q2. Write a Python function to estimate the population mean using a sample mean and standard deviation."
      ],
      "metadata": {
        "id": "JPayrRSy7wQ-"
      }
    },
    {
      "cell_type": "code",
      "source": [
        "def estimate_population_mean(sample_mean, sample_std, sample_size):\n",
        "    import math\n",
        "    standard_error = sample_std / math.sqrt(sample_size)\n",
        "    margin_of_error = 1.96 * standard_error\n",
        "    lower_bound = sample_mean - margin_of_error\n",
        "    upper_bound = sample_mean + margin_of_error\n",
        "    population_mean = (lower_bound + upper_bound) / 2\n",
        "    \n",
        "    return population_mean\n"
      ],
      "metadata": {
        "id": "X7wrZ_or9003"
      },
      "execution_count": null,
      "outputs": []
    },
    {
      "cell_type": "code",
      "source": [
        "sample_mean = 10.5\n",
        "sample_std = 2.5\n",
        "sample_size = 100\n",
        "\n",
        "estimated_population_mean = estimate_population_mean(sample_mean, sample_std, sample_size)\n",
        "\n",
        "print(\"Estimated population mean:\", estimated_population_mean)"
      ],
      "metadata": {
        "colab": {
          "base_uri": "https://localhost:8080/"
        },
        "id": "M3yj19NP-lxx",
        "outputId": "ad95b3d2-bf7b-4c1e-f057-6ed43e2d5ae0"
      },
      "execution_count": null,
      "outputs": [
        {
          "output_type": "stream",
          "name": "stdout",
          "text": [
            "Estimated population mean: 10.5\n"
          ]
        }
      ]
    },
    {
      "cell_type": "code",
      "source": [],
      "metadata": {
        "id": "neQB4uHY-7li"
      },
      "execution_count": null,
      "outputs": []
    },
    {
      "cell_type": "markdown",
      "source": [
        "Q3: What is Hypothesis testing? Why is it used? State the importance of Hypothesis testing."
      ],
      "metadata": {
        "id": "V1z2A2Hu_Eha"
      }
    },
    {
      "cell_type": "markdown",
      "source": [
        "Hypothesis testing is a statistical method used to determine if a claim or hypothesis about a population parameter is supported by the available evidence from a sample of data. The goal of hypothesis testing is to make an inference about the population based on the information from the sample.\n",
        "\n",
        "Hypothesis testing is used to test the validity of a claim or hypothesis about a population parameter, such as the population mean or proportion. It is used to make decisions based on available data, such as whether to accept or reject a null hypothesis. The null hypothesis is a statement that assumes there is no difference between a sample statistic and a population parameter, while the alternative hypothesis assumes that there is a difference.\n",
        "\n",
        "The importance of hypothesis testing lies in its ability to provide a systematic way of testing whether a claim or hypothesis about a population parameter is supported by the available evidence. It helps researchers and analysts to draw conclusions about a population based on the information from a sample, and to make informed decisions based on the evidence. Hypothesis testing also provides a way to quantify the level of uncertainty or risk associated with the decision-making process."
      ],
      "metadata": {
        "id": "DImRtet4_Ipu"
      }
    },
    {
      "cell_type": "code",
      "source": [],
      "metadata": {
        "id": "t5Lbufgc_IGM"
      },
      "execution_count": null,
      "outputs": []
    },
    {
      "cell_type": "markdown",
      "source": [
        "Q4. Create a hypothesis that states whether the average weight of male college students is greater than the average weight of female college students."
      ],
      "metadata": {
        "id": "j2ErfKqo_wZe"
      }
    },
    {
      "cell_type": "markdown",
      "source": [
        "Null hypothesis: The average weight of male college students is equal to or less than the average weight of female college students.\n",
        "\n",
        "Alternative hypothesis: The average weight of male college students is greater than the average weight of female college students."
      ],
      "metadata": {
        "id": "WocDnDwx_6iX"
      }
    },
    {
      "cell_type": "code",
      "source": [],
      "metadata": {
        "id": "1V8VyNcK_5qL"
      },
      "execution_count": null,
      "outputs": []
    },
    {
      "cell_type": "markdown",
      "source": [
        "Q5. Write a Python script to conduct a hypothesis test on the difference between two population means,given a sample from each population."
      ],
      "metadata": {
        "id": "gFw3Gdn8A9OQ"
      }
    },
    {
      "cell_type": "code",
      "source": [
        "import scipy.stats as stats\n",
        "\n",
        "men_height = [71, 69, 70, 72, 68, 73, 70, 71, 72, 69, 70, 68, 71, 73, 72, 69, 71, 70, 73, 68, 69, 72, 71, 73, 70, 68, 69, 71, 70, 72, 73, 68, 70, 72, 69, 71, 70, 73, 72, 68, 71, 69, 70, 72, 68, 73, 70, 71, 72, 69]\n",
        "women_height = [63, 62, 64, 61, 65, 63, 64, 62, 66, 65, 63, 62, 64, 61, 65, 63, 64, 62, 66, 65, 63, 62, 64, 61, 65, 63, 64, 62, 66, 65, 63, 62, 64, 61, 65, 63, 64, 62, 66, 65, 63, 62, 64, 61, 65, 63, 64, 62, 66]\n",
        "\n",
        "t_stat, p_value = stats.ttest_ind(men_height, women_height)\n",
        "\n",
        "print(\"t-statistic:\", t_stat)\n",
        "print(\"p-value:\", p_value)"
      ],
      "metadata": {
        "colab": {
          "base_uri": "https://localhost:8080/"
        },
        "id": "C5HJ7XqxA__o",
        "outputId": "2ac85153-7c69-4416-deb7-490e43ac609a"
      },
      "execution_count": null,
      "outputs": [
        {
          "output_type": "stream",
          "name": "stdout",
          "text": [
            "t-statistic: 22.266628276742278\n",
            "p-value: 6.571520647097836e-40\n"
          ]
        }
      ]
    },
    {
      "cell_type": "code",
      "source": [],
      "metadata": {
        "id": "gHVLu9_BBBCy"
      },
      "execution_count": null,
      "outputs": []
    },
    {
      "cell_type": "markdown",
      "source": [
        "Q6: What is a null and alternative hypothesis? Give some examples"
      ],
      "metadata": {
        "id": "4M5lpCalBJ1d"
      }
    },
    {
      "cell_type": "markdown",
      "source": [
        "In hypothesis testing, the null hypothesis (H0) and alternative hypothesis (H1) are two opposing statements that are used to determine the outcome of a statistical test.\n",
        "\n",
        "The null hypothesis is a statement of no effect or no difference between two groups or variables, while the alternative hypothesis is a statement of the effect or difference that we want to test.\n",
        "\n",
        "Some examples of null and alternative hypotheses are:\n",
        "\n",
        "Null hypothesis: The mean weight of apples from two different farms is the same.\n",
        "\n",
        "Alternative hypothesis: The mean weight of apples from two different farms is different.\n",
        "\n",
        "\n",
        "Null hypothesis: There is no difference in the effectiveness of two different drugs in treating a disease.\n",
        "\n",
        "Alternative hypothesis: One drug is more effective than the other in treating the disease.\n",
        "\n",
        "\n",
        "Null hypothesis: There is no relationship between education level and income.\n",
        "\n",
        "Alternative hypothesis: Higher education level is associated with higher income.\n",
        "\n",
        "In each case, the null hypothesis assumes that there is no effect or difference, while the alternative hypothesis assumes that there is an effect or difference that needs to be tested."
      ],
      "metadata": {
        "id": "Ft2BT9kFBPml"
      }
    },
    {
      "cell_type": "code",
      "source": [],
      "metadata": {
        "id": "ryngsSxUBOz5"
      },
      "execution_count": null,
      "outputs": []
    },
    {
      "cell_type": "markdown",
      "source": [
        "Q7: Write down the steps involved in hypothesis testing."
      ],
      "metadata": {
        "id": "9iUj_HntBxpm"
      }
    },
    {
      "cell_type": "markdown",
      "source": [
        "The steps involved in hypothesis testing are as follows:\n",
        "\n",
        "State the null hypothesis (H0) and the alternative hypothesis (Ha).\n",
        "\n",
        "Choose an appropriate test statistic and determine the significance level (alpha).\n",
        "\n",
        "Collect the data and calculate the test statistic.\n",
        "\n",
        "Determine the p-value (the probability of getting a test statistic as extreme or more extreme than the observed statistic under the null hypothesis).\n",
        "\n",
        "Compare the p-value to the significance level alpha. If the p-value is less than or equal to alpha, reject the null hypothesis. Otherwise, fail to reject the null hypothesis.\n",
        "\n",
        "Draw conclusions and interpret the results in the context of the problem"
      ],
      "metadata": {
        "id": "Zugh4Rg3B2KZ"
      }
    },
    {
      "cell_type": "code",
      "source": [],
      "metadata": {
        "id": "QEWj0XgUB1GJ"
      },
      "execution_count": null,
      "outputs": []
    },
    {
      "cell_type": "markdown",
      "source": [
        "Q8. Define p-value and explain its significance in hypothesis testing."
      ],
      "metadata": {
        "id": "YfISP423CPya"
      }
    },
    {
      "cell_type": "markdown",
      "source": [
        "In hypothesis testing, the p-value is the probability of observing a test statistic as extreme as, or more extreme than, the one computed from the sample data, assuming that the null hypothesis is true. In other words, the p-value tells us how likely it is that the observed results are due to chance alone, given the assumptions made by the null hypothesis.\n",
        "\n",
        "If the p-value is less than or equal to the chosen significance level (usually 0.05), then we reject the null hypothesis and conclude that the alternative hypothesis is supported by the data. If the p-value is greater than the chosen significance level, then we fail to reject the null hypothesis and conclude that there is not enough evidence to support the alternative hypothesis.\n",
        "\n",
        "The significance of the p-value lies in its ability to quantify the strength of the evidence against the null hypothesis. A small p-value indicates that the observed results are unlikely to be due to chance, and therefore provides strong evidence against the null hypothesis. On the other hand, a large p-value suggests that the observed results are likely to be due to chance, and that the null hypothesis cannot be rejected based on the available evidence.\n",
        "\n",
        "It is important to note that the p-value does not provide information on the effect size or practical significance of the observed results, but only on their statistical significance."
      ],
      "metadata": {
        "id": "Cv04tljZCVLG"
      }
    },
    {
      "cell_type": "code",
      "source": [],
      "metadata": {
        "id": "br2IGSMdCUc8"
      },
      "execution_count": null,
      "outputs": []
    },
    {
      "cell_type": "markdown",
      "source": [
        "Q9. Generate a Student's t-distribution plot using Python's matplotlib library, with the degrees of freedom parameter set to 10."
      ],
      "metadata": {
        "id": "pVW7drQCCpsJ"
      }
    },
    {
      "cell_type": "code",
      "source": [
        "import matplotlib.pyplot as plt\n",
        "import numpy as np\n",
        "from scipy.stats import t\n",
        "\n",
        "df = 10  # degrees of freedom\n",
        "\n",
        "x = np.linspace(t.ppf(0.001, df), t.ppf(0.999, df), 100)\n",
        "plt.plot(x, t.pdf(x, df), 'r-', lw=2, alpha=0.6, label='t pdf')\n",
        "\n",
        "plt.legend(loc='best', frameon=False)\n",
        "plt.show()"
      ],
      "metadata": {
        "colab": {
          "base_uri": "https://localhost:8080/",
          "height": 430
        },
        "id": "SY-2SJuPCwh0",
        "outputId": "ee4dd8e2-1ac4-42ec-ba74-de4c86030c7c"
      },
      "execution_count": null,
      "outputs": [
        {
          "output_type": "display_data",
          "data": {
            "text/plain": [
              "<Figure size 640x480 with 1 Axes>"
            ],
            "image/png": "[encoded data removed]"
          },
          "metadata": {}
        }
      ]
    },
    {
      "cell_type": "code",
      "source": [],
      "metadata": {
        "id": "N0jKVJ7HDXN2"
      },
      "execution_count": null,
      "outputs": []
    },
    {
      "cell_type": "markdown",
      "source": [
        "Q10. Write a Python program to calculate the two-sample t-test for independent samples, given two\n",
        "random samples of equal size and a null hypothesis that the population means are equal."
      ],
      "metadata": {
        "id": "-sP4bocrDclf"
      }
    },
    {
      "cell_type": "code",
      "source": [
        "import numpy as np\n",
        "from scipy.stats import ttest_ind\n",
        "\n",
        "sample1 = np.random.normal(10, 2, size=50)\n",
        "sample2 = np.random.normal(12, 2, size=50)\n",
        "\n",
        "t_statistic, p_value = ttest_ind(sample1, sample2)\n",
        "\n",
        "print(\"t-statistic: \", t_statistic)\n",
        "print(\"p-value: \", p_value)"
      ],
      "metadata": {
        "colab": {
          "base_uri": "https://localhost:8080/"
        },
        "id": "2i-of8r-661I",
        "outputId": "c833cd6a-4799-4d29-aa64-d28570a9cf59"
      },
      "execution_count": null,
      "outputs": [
        {
          "output_type": "stream",
          "name": "stdout",
          "text": [
            "t-statistic:  -5.841975724877972\n",
            "p-value:  6.740332189201115e-08\n"
          ]
        }
      ]
    },
    {
      "cell_type": "code",
      "source": [],
      "metadata": {
        "id": "S65HYF707QD_"
      },
      "execution_count": null,
      "outputs": []
    },
    {
      "cell_type": "markdown",
      "source": [
        "Q11: What is Student’s t distribution? When to use the t-Distribution."
      ],
      "metadata": {
        "id": "LthE8LsE7cLo"
      }
    },
    {
      "cell_type": "markdown",
      "source": [
        "Student's t-distribution is a probability distribution that is used to estimate population parameters, especially the population mean, when the sample size is small (less than 30) and the population variance is unknown. It is also used to test hypotheses about the population mean.\n",
        "\n",
        "The t-distribution is similar to the standard normal distribution, but it has heavier tails and is flatter in the center. The shape of the t-distribution depends on the degrees of freedom (df), which is determined by the sample size.\n",
        "\n",
        "The t-distribution is used in situations where the sample size is small, and the population variance is unknown, and the sample follows a normal distribution. For example, in medical trials, the sample size is usually small, and the population variance is unknown, and the t-distribution is used to estimate the population mean and test hypotheses about the population mean."
      ],
      "metadata": {
        "id": "JT_feSIp7ddP"
      }
    },
    {
      "cell_type": "code",
      "source": [],
      "metadata": {
        "id": "oJl6y5Yk7b1l"
      },
      "execution_count": null,
      "outputs": []
    },
    {
      "cell_type": "markdown",
      "source": [
        "Q12: What is t-statistic? State the formula for t-statistic."
      ],
      "metadata": {
        "id": "zqM_yPzP7ptV"
      }
    },
    {
      "cell_type": "markdown",
      "source": [
        "In statistics, the t-statistic is a measure of how many standard errors a sample mean is away from the true population mean. It is used in hypothesis testing to determine whether to accept or reject the null hypothesis. The formula for the t-statistic is:\n",
        "\n",
        "t = (x̄ - μ) / (s / √n)\n",
        "\n",
        "Where:\n",
        "\n",
        "x̄ is the sample mean\n",
        "μ is the population mean (from the null hypothesis)\n",
        "s is the sample standard deviation\n",
        "n is the sample size\n",
        "The t-statistic follows a t-distribution with n - 1 degrees of freedom."
      ],
      "metadata": {
        "id": "q1GerKwL7tQE"
      }
    },
    {
      "cell_type": "code",
      "source": [],
      "metadata": {
        "id": "o5FTXI6u7sqe"
      },
      "execution_count": null,
      "outputs": []
    },
    {
      "cell_type": "markdown",
      "source": [
        "Q13. A coffee shop owner wants to estimate the average daily revenue for their shop. They take a random\n",
        "sample of 50 days and find the sample mean revenue to be $500 with a standard deviation of $50.\n",
        "Estimate the population mean revenue with a 95% confidence interval."
      ],
      "metadata": {
        "id": "HYsddnTb8Eyq"
      }
    },
    {
      "cell_type": "code",
      "source": [
        "'''\n",
        "C.I = Mean +- Z(alpha/2) X sigma/sqrt(sample size)\n",
        "\n",
        "C.I = 95% = 0.95\n",
        "\n",
        "signifiance level(Alpha) = 1 - c.i = 1 - 0.95 = 0.05\n",
        "\n",
        "Z(alpha/2) = 0.05/2 = 0.025 (Rejection Area)\n",
        "\n",
        "t = 1-0.025 = 0.975(Acepetance Area), on 0.975 we get 1.96 t value\n",
        "\n",
        "'''"
      ],
      "metadata": {
        "id": "2KhTWIptDrj3"
      },
      "execution_count": null,
      "outputs": []
    },
    {
      "cell_type": "code",
      "source": [
        "import math"
      ],
      "metadata": {
        "id": "i0SgZM9fFIS3"
      },
      "execution_count": 2,
      "outputs": []
    },
    {
      "cell_type": "code",
      "source": [
        "upper = (500 + 1.96 * 50/math.sqrt(50))"
      ],
      "metadata": {
        "id": "5456SE6OFOGf"
      },
      "execution_count": null,
      "outputs": []
    },
    {
      "cell_type": "code",
      "source": [
        "upper"
      ],
      "metadata": {
        "colab": {
          "base_uri": "https://localhost:8080/"
        },
        "id": "LrNMJdlAFky4",
        "outputId": "5052edbb-f7fc-4d8b-c362-a7d6c14056ce"
      },
      "execution_count": null,
      "outputs": [
        {
          "output_type": "execute_result",
          "data": {
            "text/plain": [
              "513.8592929112564"
            ]
          },
          "metadata": {},
          "execution_count": 19
        }
      ]
    },
    {
      "cell_type": "code",
      "source": [
        "lower = (500 - 1.96 * 50/math.sqrt(50))"
      ],
      "metadata": {
        "id": "UKeLMp6GFo-K"
      },
      "execution_count": null,
      "outputs": []
    },
    {
      "cell_type": "code",
      "source": [
        "lower"
      ],
      "metadata": {
        "colab": {
          "base_uri": "https://localhost:8080/"
        },
        "id": "XGSJ_y1EFtBf",
        "outputId": "6b4cba53-d85e-4ed0-ecbc-5a14a20592d2"
      },
      "execution_count": null,
      "outputs": [
        {
          "output_type": "execute_result",
          "data": {
            "text/plain": [
              "486.1407070887437"
            ]
          },
          "metadata": {},
          "execution_count": 21
        }
      ]
    },
    {
      "cell_type": "code",
      "source": [],
      "metadata": {
        "id": "nQaxFvzKF9xH"
      },
      "execution_count": null,
      "outputs": []
    },
    {
      "cell_type": "markdown",
      "source": [
        "Q14. A researcher hypothesizes that a new drug will decrease blood pressure by 10 mmHg. They conduct a\n",
        "clinical trial with 100 patients and find that the sample mean decrease in blood pressure is 8 mmHg with a\n",
        "standard deviation of 3 mmHg. Test the hypothesis with a significance level of 0.05."
      ],
      "metadata": {
        "id": "oHyYAAyJF-M-"
      }
    },
    {
      "cell_type": "code",
      "source": [
        "'''\n",
        "\n",
        "Null Hypothesis: The new drug does not decrease blood pressure by 10 mmHg\n",
        "Alternative Hypothesis: The new drug decreases blood pressure by 10 mmHg\n",
        "\n",
        "Sample size (n) = 100\n",
        "Sample mean (x̄) = 8\n",
        "Sample standard deviation (s) = 3\n",
        "Population mean (μ) = 10\n",
        "Significance level (α) = 0.05\n",
        "Degrees of freedom (df) = n - 1 = 99\n",
        "\n",
        "\n",
        "'''"
      ],
      "metadata": {
        "id": "SNkbcSCnGB1z"
      },
      "execution_count": null,
      "outputs": []
    },
    {
      "cell_type": "code",
      "source": [
        "Zd = ((8-10)/(3/math.sqrt(100)))"
      ],
      "metadata": {
        "id": "68hinU_0IuuB"
      },
      "execution_count": 3,
      "outputs": []
    },
    {
      "cell_type": "code",
      "source": [
        "Zd"
      ],
      "metadata": {
        "colab": {
          "base_uri": "https://localhost:8080/"
        },
        "id": "MqDr49X3JEva",
        "outputId": "ea268cd5-7ff7-4554-9067-83259f3cc7ac"
      },
      "execution_count": 4,
      "outputs": [
        {
          "output_type": "execute_result",
          "data": {
            "text/plain": [
              "-6.666666666666667"
            ]
          },
          "metadata": {},
          "execution_count": 4
        }
      ]
    },
    {
      "cell_type": "code",
      "source": [],
      "metadata": {
        "id": "ItpHqJDtJF67"
      },
      "execution_count": null,
      "outputs": []
    },
    {
      "cell_type": "markdown",
      "source": [
        "Q15. An electronics company produces a certain type of product with a mean weight of 5 pounds and a\n",
        "standard deviation of 0.5 pounds. A random sample of 25 products is taken, and the sample mean weight\n",
        "is found to be 4.8 pounds. Test the hypothesis that the true mean weight of the products is less than 5\n",
        "pounds with a significance level of 0.01."
      ],
      "metadata": {
        "id": "ZwiC6UkHSwTB"
      }
    },
    {
      "cell_type": "code",
      "source": [
        "import numpy as np\n",
        "from scipy.stats import t\n",
        "\n",
        "mean = 5\n",
        "std_dev = 0.5\n",
        "n = 25\n",
        "sample_mean = 4.8\n",
        "alpha = 0.01\n",
        "t_score = (sample_mean - mean)/(std_dev/np.sqrt(n))\n",
        "p_value = t.sf(np.abs(t_score), n-1)\n",
        "\n",
        "if p_value < alpha:\n",
        "    print(\"Reject null hypothesis: The true mean weight is less than 5 pounds.\")\n",
        "else:\n",
        "    print(\"Fail to reject null hypothesis: The true mean weight is not less than 5 pounds.\")\n"
      ],
      "metadata": {
        "colab": {
          "base_uri": "https://localhost:8080/"
        },
        "id": "bw5os8nxWBMh",
        "outputId": "3da783df-560a-45e4-c733-e260f43f66c6"
      },
      "execution_count": 9,
      "outputs": [
        {
          "output_type": "stream",
          "name": "stdout",
          "text": [
            "Fail to reject null hypothesis: The true mean weight is not less than 5 pounds.\n"
          ]
        }
      ]
    },
    {
      "cell_type": "code",
      "source": [],
      "metadata": {
        "id": "V0Z0okc8WCLi"
      },
      "execution_count": null,
      "outputs": []
    },
    {
      "cell_type": "markdown",
      "source": [
        "Q16. Two groups of students are given different study materials to prepare for a test. The first group (n1 =\n",
        "30) has a mean score of 80 with a standard deviation of 10, and the second group (n2 = 40) has a mean\n",
        "score of 75 with a standard deviation of 8. Test the hypothesis that the population means for the two\n",
        "groups are equal with a significance level of 0.01."
      ],
      "metadata": {
        "id": "wUtTnwboY7dQ"
      }
    },
    {
      "cell_type": "code",
      "source": [
        "import scipy.stats as stats\n",
        "\n",
        "x1 = 80\n",
        "s1 = 10\n",
        "n1 = 30\n",
        "\n",
        "x2 = 75\n",
        "s2 = 8\n",
        "n2 = 40\n",
        "\n",
        "t, p = stats.ttest_ind_from_stats(x1, s1, n1, x2, s2, n2)\n",
        "\n",
        "print(\"t-statistic:\", t)\n",
        "print(\"p-value:\", p)\n",
        "\n",
        "alpha = 0.01\n",
        "if p < alpha:\n",
        "    print(\"Reject null hypothesis\")\n",
        "else:\n",
        "    print(\"Fail to reject null hypothesis\")\n"
      ],
      "metadata": {
        "colab": {
          "base_uri": "https://localhost:8080/"
        },
        "id": "zqWzyu2fY8RU",
        "outputId": "f9301fa5-68e8-4c08-ef08-d207502a60e8"
      },
      "execution_count": 10,
      "outputs": [
        {
          "output_type": "stream",
          "name": "stdout",
          "text": [
            "t-statistic: 2.323967729699292\n",
            "p-value: 0.02312301341372599\n",
            "Fail to reject null hypothesis\n"
          ]
        }
      ]
    },
    {
      "cell_type": "code",
      "source": [],
      "metadata": {
        "id": "XC562m55aX73"
      },
      "execution_count": null,
      "outputs": []
    },
    {
      "cell_type": "markdown",
      "source": [
        "Q17. A marketing company wants to estimate the average number of ads watched by viewers during a TV\n",
        "program. They take a random sample of 50 viewers and find that the sample mean is 4 with a standard\n",
        "deviation of 1.5. Estimate the population mean with a 99% confidence interval."
      ],
      "metadata": {
        "id": "O8jdWV08b1xT"
      }
    },
    {
      "cell_type": "code",
      "source": [
        "import math\n",
        "\n",
        "n = 50\n",
        "sample_mean = 4\n",
        "sample_stddev = 1.5\n",
        "\n",
        "std_error = sample_stddev / math.sqrt(n)\n",
        "\n",
        "t_value = abs(stats.t.ppf(0.01/2, n-1))\n",
        "\n",
        "lower_bound = sample_mean - (t_value * std_error)\n",
        "upper_bound = sample_mean + (t_value * std_error)\n",
        "\n",
        "print(f\"The 99% confidence interval for the population mean number of ads watched by viewers is ({lower_bound:.2f}, {upper_bound:.2f})\")\n"
      ],
      "metadata": {
        "colab": {
          "base_uri": "https://localhost:8080/"
        },
        "id": "yRKJiNfIb2OW",
        "outputId": "672dc2e4-fe0a-4207-9f5e-b13b01b8b423"
      },
      "execution_count": 11,
      "outputs": [
        {
          "output_type": "stream",
          "name": "stdout",
          "text": [
            "The 99% confidence interval for the population mean number of ads watched by viewers is (3.43, 4.57)\n"
          ]
        }
      ]
    },
    {
      "cell_type": "code",
      "source": [],
      "metadata": {
        "id": "ki7MC1tweOE3"
      },
      "execution_count": null,
      "outputs": []
    }
  ]
}